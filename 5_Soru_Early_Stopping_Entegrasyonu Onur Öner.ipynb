{
  "nbformat": 4,
  "nbformat_minor": 0,
  "metadata": {
    "colab": {
      "provenance": []
    },
    "kernelspec": {
      "name": "python3",
      "display_name": "Python 3"
    },
    "language_info": {
      "name": "python"
    },
    "gpuClass": "standard"
  },
  "cells": [
    {
      "cell_type": "code",
      "execution_count": 1,
      "metadata": {
        "id": "s2bOM7WVL7yq"
      },
      "outputs": [],
      "source": [
        "import torch\n",
        "import torch.nn as nn\n",
        "import numpy as np\n",
        "import pandas as pd\n",
        "import matplotlib.pyplot as plt"
      ]
    },
    {
      "cell_type": "code",
      "source": [
        "device = \"cuda\" if torch.cuda.is_available() else \"cpu\""
      ],
      "metadata": {
        "id": "PHbzA1rA39OB"
      },
      "execution_count": 2,
      "outputs": []
    },
    {
      "cell_type": "code",
      "source": [
        "torch.manual_seed(190401095)"
      ],
      "metadata": {
        "colab": {
          "base_uri": "https://localhost:8080/"
        },
        "id": "s9IfjAH5y62_",
        "outputId": "43ca1805-0380-424a-ee00-bc124f19dd9d"
      },
      "execution_count": 4,
      "outputs": [
        {
          "output_type": "execute_result",
          "data": {
            "text/plain": [
              "<torch._C.Generator at 0x7fa47156c210>"
            ]
          },
          "metadata": {},
          "execution_count": 4
        }
      ]
    },
    {
      "cell_type": "markdown",
      "source": [
        "# 1. Veri Yükleme ve Veriyi Keşfetme"
      ],
      "metadata": {
        "id": "FXze3BYhMsuc"
      }
    },
    {
      "cell_type": "code",
      "source": [
        "train_dataset = pd.read_csv(\"/content/cure_the_princess_train.csv\")\n",
        "val_dataset = pd.read_csv(\"/content/cure_the_princess_validation.csv\")\n",
        "test_dataset = pd.read_csv(\"/content/cure_the_princess_test.csv\")"
      ],
      "metadata": {
        "id": "BWWHnBKHMx8O"
      },
      "execution_count": 5,
      "outputs": []
    },
    {
      "cell_type": "code",
      "source": [
        "train_dataset.head()"
      ],
      "metadata": {
        "colab": {
          "base_uri": "https://localhost:8080/",
          "height": 267
        },
        "id": "x5vCIr-UP_ie",
        "outputId": "4794645f-8ee9-44bd-f91f-94d6382caee5"
      },
      "execution_count": 6,
      "outputs": [
        {
          "output_type": "execute_result",
          "data": {
            "text/plain": [
              "   Phoenix Feather  Unicorn Horn  Dragon's Blood  Mermaid Tears  Fairy Dust  \\\n",
              "0             18.8           1.5            19.7            1.1        19.5   \n",
              "1              6.0           3.8            12.4           16.9        13.0   \n",
              "2             22.4           7.9            28.6           11.2         5.4   \n",
              "3             10.8           4.6             5.1           16.7        20.8   \n",
              "4              3.7           5.7             9.0            3.3        17.4   \n",
              "\n",
              "   Goblin Toes  Witch's Brew  Griffin Claw  Troll Hair  Kraken Ink  \\\n",
              "0         30.1          16.5           9.9        27.3         1.8   \n",
              "1         12.6          17.0          25.4         7.7        14.6   \n",
              "2          9.3          11.5          10.7         9.4        11.1   \n",
              "3         27.1           7.8          15.5        34.0         7.6   \n",
              "4         33.3           7.6          20.1        11.5         6.1   \n",
              "\n",
              "   Minotaur Horn  Basilisk Scale  Chimera Fang  Cured  \n",
              "0           18.9            25.3           2.0      1  \n",
              "1            3.8            23.7          17.9      0  \n",
              "2           21.4            29.1           7.5      0  \n",
              "3           16.5            27.3           3.2      1  \n",
              "4            5.2             6.1           1.9      0  "
            ],
            "text/html": [
              "\n",
              "  <div id=\"df-bb15a95b-17c9-4910-84db-e08c45a43766\">\n",
              "    <div class=\"colab-df-container\">\n",
              "      <div>\n",
              "<style scoped>\n",
              "    .dataframe tbody tr th:only-of-type {\n",
              "        vertical-align: middle;\n",
              "    }\n",
              "\n",
              "    .dataframe tbody tr th {\n",
              "        vertical-align: top;\n",
              "    }\n",
              "\n",
              "    .dataframe thead th {\n",
              "        text-align: right;\n",
              "    }\n",
              "</style>\n",
              "<table border=\"1\" class=\"dataframe\">\n",
              "  <thead>\n",
              "    <tr style=\"text-align: right;\">\n",
              "      <th></th>\n",
              "      <th>Phoenix Feather</th>\n",
              "      <th>Unicorn Horn</th>\n",
              "      <th>Dragon's Blood</th>\n",
              "      <th>Mermaid Tears</th>\n",
              "      <th>Fairy Dust</th>\n",
              "      <th>Goblin Toes</th>\n",
              "      <th>Witch's Brew</th>\n",
              "      <th>Griffin Claw</th>\n",
              "      <th>Troll Hair</th>\n",
              "      <th>Kraken Ink</th>\n",
              "      <th>Minotaur Horn</th>\n",
              "      <th>Basilisk Scale</th>\n",
              "      <th>Chimera Fang</th>\n",
              "      <th>Cured</th>\n",
              "    </tr>\n",
              "  </thead>\n",
              "  <tbody>\n",
              "    <tr>\n",
              "      <th>0</th>\n",
              "      <td>18.8</td>\n",
              "      <td>1.5</td>\n",
              "      <td>19.7</td>\n",
              "      <td>1.1</td>\n",
              "      <td>19.5</td>\n",
              "      <td>30.1</td>\n",
              "      <td>16.5</td>\n",
              "      <td>9.9</td>\n",
              "      <td>27.3</td>\n",
              "      <td>1.8</td>\n",
              "      <td>18.9</td>\n",
              "      <td>25.3</td>\n",
              "      <td>2.0</td>\n",
              "      <td>1</td>\n",
              "    </tr>\n",
              "    <tr>\n",
              "      <th>1</th>\n",
              "      <td>6.0</td>\n",
              "      <td>3.8</td>\n",
              "      <td>12.4</td>\n",
              "      <td>16.9</td>\n",
              "      <td>13.0</td>\n",
              "      <td>12.6</td>\n",
              "      <td>17.0</td>\n",
              "      <td>25.4</td>\n",
              "      <td>7.7</td>\n",
              "      <td>14.6</td>\n",
              "      <td>3.8</td>\n",
              "      <td>23.7</td>\n",
              "      <td>17.9</td>\n",
              "      <td>0</td>\n",
              "    </tr>\n",
              "    <tr>\n",
              "      <th>2</th>\n",
              "      <td>22.4</td>\n",
              "      <td>7.9</td>\n",
              "      <td>28.6</td>\n",
              "      <td>11.2</td>\n",
              "      <td>5.4</td>\n",
              "      <td>9.3</td>\n",
              "      <td>11.5</td>\n",
              "      <td>10.7</td>\n",
              "      <td>9.4</td>\n",
              "      <td>11.1</td>\n",
              "      <td>21.4</td>\n",
              "      <td>29.1</td>\n",
              "      <td>7.5</td>\n",
              "      <td>0</td>\n",
              "    </tr>\n",
              "    <tr>\n",
              "      <th>3</th>\n",
              "      <td>10.8</td>\n",
              "      <td>4.6</td>\n",
              "      <td>5.1</td>\n",
              "      <td>16.7</td>\n",
              "      <td>20.8</td>\n",
              "      <td>27.1</td>\n",
              "      <td>7.8</td>\n",
              "      <td>15.5</td>\n",
              "      <td>34.0</td>\n",
              "      <td>7.6</td>\n",
              "      <td>16.5</td>\n",
              "      <td>27.3</td>\n",
              "      <td>3.2</td>\n",
              "      <td>1</td>\n",
              "    </tr>\n",
              "    <tr>\n",
              "      <th>4</th>\n",
              "      <td>3.7</td>\n",
              "      <td>5.7</td>\n",
              "      <td>9.0</td>\n",
              "      <td>3.3</td>\n",
              "      <td>17.4</td>\n",
              "      <td>33.3</td>\n",
              "      <td>7.6</td>\n",
              "      <td>20.1</td>\n",
              "      <td>11.5</td>\n",
              "      <td>6.1</td>\n",
              "      <td>5.2</td>\n",
              "      <td>6.1</td>\n",
              "      <td>1.9</td>\n",
              "      <td>0</td>\n",
              "    </tr>\n",
              "  </tbody>\n",
              "</table>\n",
              "</div>\n",
              "      <button class=\"colab-df-convert\" onclick=\"convertToInteractive('df-bb15a95b-17c9-4910-84db-e08c45a43766')\"\n",
              "              title=\"Convert this dataframe to an interactive table.\"\n",
              "              style=\"display:none;\">\n",
              "        \n",
              "  <svg xmlns=\"http://www.w3.org/2000/svg\" height=\"24px\"viewBox=\"0 0 24 24\"\n",
              "       width=\"24px\">\n",
              "    <path d=\"M0 0h24v24H0V0z\" fill=\"none\"/>\n",
              "    <path d=\"M18.56 5.44l.94 2.06.94-2.06 2.06-.94-2.06-.94-.94-2.06-.94 2.06-2.06.94zm-11 1L8.5 8.5l.94-2.06 2.06-.94-2.06-.94L8.5 2.5l-.94 2.06-2.06.94zm10 10l.94 2.06.94-2.06 2.06-.94-2.06-.94-.94-2.06-.94 2.06-2.06.94z\"/><path d=\"M17.41 7.96l-1.37-1.37c-.4-.4-.92-.59-1.43-.59-.52 0-1.04.2-1.43.59L10.3 9.45l-7.72 7.72c-.78.78-.78 2.05 0 2.83L4 21.41c.39.39.9.59 1.41.59.51 0 1.02-.2 1.41-.59l7.78-7.78 2.81-2.81c.8-.78.8-2.07 0-2.86zM5.41 20L4 18.59l7.72-7.72 1.47 1.35L5.41 20z\"/>\n",
              "  </svg>\n",
              "      </button>\n",
              "      \n",
              "  <style>\n",
              "    .colab-df-container {\n",
              "      display:flex;\n",
              "      flex-wrap:wrap;\n",
              "      gap: 12px;\n",
              "    }\n",
              "\n",
              "    .colab-df-convert {\n",
              "      background-color: #E8F0FE;\n",
              "      border: none;\n",
              "      border-radius: 50%;\n",
              "      cursor: pointer;\n",
              "      display: none;\n",
              "      fill: #1967D2;\n",
              "      height: 32px;\n",
              "      padding: 0 0 0 0;\n",
              "      width: 32px;\n",
              "    }\n",
              "\n",
              "    .colab-df-convert:hover {\n",
              "      background-color: #E2EBFA;\n",
              "      box-shadow: 0px 1px 2px rgba(60, 64, 67, 0.3), 0px 1px 3px 1px rgba(60, 64, 67, 0.15);\n",
              "      fill: #174EA6;\n",
              "    }\n",
              "\n",
              "    [theme=dark] .colab-df-convert {\n",
              "      background-color: #3B4455;\n",
              "      fill: #D2E3FC;\n",
              "    }\n",
              "\n",
              "    [theme=dark] .colab-df-convert:hover {\n",
              "      background-color: #434B5C;\n",
              "      box-shadow: 0px 1px 3px 1px rgba(0, 0, 0, 0.15);\n",
              "      filter: drop-shadow(0px 1px 2px rgba(0, 0, 0, 0.3));\n",
              "      fill: #FFFFFF;\n",
              "    }\n",
              "  </style>\n",
              "\n",
              "      <script>\n",
              "        const buttonEl =\n",
              "          document.querySelector('#df-bb15a95b-17c9-4910-84db-e08c45a43766 button.colab-df-convert');\n",
              "        buttonEl.style.display =\n",
              "          google.colab.kernel.accessAllowed ? 'block' : 'none';\n",
              "\n",
              "        async function convertToInteractive(key) {\n",
              "          const element = document.querySelector('#df-bb15a95b-17c9-4910-84db-e08c45a43766');\n",
              "          const dataTable =\n",
              "            await google.colab.kernel.invokeFunction('convertToInteractive',\n",
              "                                                     [key], {});\n",
              "          if (!dataTable) return;\n",
              "\n",
              "          const docLinkHtml = 'Like what you see? Visit the ' +\n",
              "            '<a target=\"_blank\" href=https://colab.research.google.com/notebooks/data_table.ipynb>data table notebook</a>'\n",
              "            + ' to learn more about interactive tables.';\n",
              "          element.innerHTML = '';\n",
              "          dataTable['output_type'] = 'display_data';\n",
              "          await google.colab.output.renderOutput(dataTable, element);\n",
              "          const docLink = document.createElement('div');\n",
              "          docLink.innerHTML = docLinkHtml;\n",
              "          element.appendChild(docLink);\n",
              "        }\n",
              "      </script>\n",
              "    </div>\n",
              "  </div>\n",
              "  "
            ]
          },
          "metadata": {},
          "execution_count": 6
        }
      ]
    },
    {
      "cell_type": "code",
      "source": [
        "train_dataset[\"Cured\"].value_counts()"
      ],
      "metadata": {
        "colab": {
          "base_uri": "https://localhost:8080/"
        },
        "id": "Rt59bepcQGSk",
        "outputId": "54249983-17b0-4539-be58-bf7348701c1d"
      },
      "execution_count": 7,
      "outputs": [
        {
          "output_type": "execute_result",
          "data": {
            "text/plain": [
              "0    635\n",
              "1    617\n",
              "Name: Cured, dtype: int64"
            ]
          },
          "metadata": {},
          "execution_count": 7
        }
      ]
    },
    {
      "cell_type": "markdown",
      "source": [
        "Toplamda 2 adet sınıfımız var. Modelimiz sonuç olarak tek bir kategori tahmininde bulunacağından output layerda tek bir nöron olacak."
      ],
      "metadata": {
        "id": "Oi2gtjFiQR7C"
      }
    },
    {
      "cell_type": "code",
      "source": [
        "train_dataset.info()"
      ],
      "metadata": {
        "id": "REOzOUJYQQyj",
        "colab": {
          "base_uri": "https://localhost:8080/"
        },
        "outputId": "b6a1d18d-e623-4814-fb8a-d093f1d2f0da"
      },
      "execution_count": 8,
      "outputs": [
        {
          "output_type": "stream",
          "name": "stdout",
          "text": [
            "<class 'pandas.core.frame.DataFrame'>\n",
            "RangeIndex: 1252 entries, 0 to 1251\n",
            "Data columns (total 14 columns):\n",
            " #   Column           Non-Null Count  Dtype  \n",
            "---  ------           --------------  -----  \n",
            " 0   Phoenix Feather  1252 non-null   float64\n",
            " 1   Unicorn Horn     1252 non-null   float64\n",
            " 2   Dragon's Blood   1252 non-null   float64\n",
            " 3   Mermaid Tears    1252 non-null   float64\n",
            " 4   Fairy Dust       1252 non-null   float64\n",
            " 5   Goblin Toes      1252 non-null   float64\n",
            " 6   Witch's Brew     1252 non-null   float64\n",
            " 7   Griffin Claw     1252 non-null   float64\n",
            " 8   Troll Hair       1252 non-null   float64\n",
            " 9   Kraken Ink       1252 non-null   float64\n",
            " 10  Minotaur Horn    1252 non-null   float64\n",
            " 11  Basilisk Scale   1252 non-null   float64\n",
            " 12  Chimera Fang     1252 non-null   float64\n",
            " 13  Cured            1252 non-null   int64  \n",
            "dtypes: float64(13), int64(1)\n",
            "memory usage: 137.1 KB\n"
          ]
        }
      ]
    },
    {
      "cell_type": "code",
      "source": [
        "val_dataset.info()"
      ],
      "metadata": {
        "colab": {
          "base_uri": "https://localhost:8080/"
        },
        "id": "XdOG45UiF86t",
        "outputId": "f1334d5c-f17f-4007-8157-923d9f105d17"
      },
      "execution_count": 9,
      "outputs": [
        {
          "output_type": "stream",
          "name": "stdout",
          "text": [
            "<class 'pandas.core.frame.DataFrame'>\n",
            "RangeIndex: 314 entries, 0 to 313\n",
            "Data columns (total 14 columns):\n",
            " #   Column           Non-Null Count  Dtype  \n",
            "---  ------           --------------  -----  \n",
            " 0   Phoenix Feather  314 non-null    float64\n",
            " 1   Unicorn Horn     314 non-null    float64\n",
            " 2   Dragon's Blood   314 non-null    float64\n",
            " 3   Mermaid Tears    314 non-null    float64\n",
            " 4   Fairy Dust       314 non-null    float64\n",
            " 5   Goblin Toes      314 non-null    float64\n",
            " 6   Witch's Brew     314 non-null    float64\n",
            " 7   Griffin Claw     314 non-null    float64\n",
            " 8   Troll Hair       314 non-null    float64\n",
            " 9   Kraken Ink       314 non-null    float64\n",
            " 10  Minotaur Horn    314 non-null    float64\n",
            " 11  Basilisk Scale   314 non-null    float64\n",
            " 12  Chimera Fang     314 non-null    float64\n",
            " 13  Cured            314 non-null    int64  \n",
            "dtypes: float64(13), int64(1)\n",
            "memory usage: 34.5 KB\n"
          ]
        }
      ]
    },
    {
      "cell_type": "code",
      "source": [
        "test_dataset.info()"
      ],
      "metadata": {
        "colab": {
          "base_uri": "https://localhost:8080/"
        },
        "id": "8M8EB9lMGEOh",
        "outputId": "0d42f79b-a33c-4ff4-8a1f-d84909b12344"
      },
      "execution_count": 10,
      "outputs": [
        {
          "output_type": "stream",
          "name": "stdout",
          "text": [
            "<class 'pandas.core.frame.DataFrame'>\n",
            "RangeIndex: 772 entries, 0 to 771\n",
            "Data columns (total 14 columns):\n",
            " #   Column           Non-Null Count  Dtype  \n",
            "---  ------           --------------  -----  \n",
            " 0   Phoenix Feather  772 non-null    float64\n",
            " 1   Unicorn Horn     772 non-null    float64\n",
            " 2   Dragon's Blood   772 non-null    float64\n",
            " 3   Mermaid Tears    772 non-null    float64\n",
            " 4   Fairy Dust       772 non-null    float64\n",
            " 5   Goblin Toes      772 non-null    float64\n",
            " 6   Witch's Brew     772 non-null    float64\n",
            " 7   Griffin Claw     772 non-null    float64\n",
            " 8   Troll Hair       772 non-null    float64\n",
            " 9   Kraken Ink       772 non-null    float64\n",
            " 10  Minotaur Horn    772 non-null    float64\n",
            " 11  Basilisk Scale   772 non-null    float64\n",
            " 12  Chimera Fang     772 non-null    float64\n",
            " 13  Cured            772 non-null    int64  \n",
            "dtypes: float64(13), int64(1)\n",
            "memory usage: 84.6 KB\n"
          ]
        }
      ]
    },
    {
      "cell_type": "markdown",
      "source": [
        "Model eğitiminde train_dataset içerisinde yer alan verileri kullanacağız. Buradaki verileri girdiler ve çıktılar olarak bölmemiz gerekiyor."
      ],
      "metadata": {
        "id": "pIF0jBxAjkSv"
      }
    },
    {
      "cell_type": "code",
      "source": [
        "train_inputs = train_dataset.iloc[:,:-1]\n",
        "train_inputs.head()"
      ],
      "metadata": {
        "colab": {
          "base_uri": "https://localhost:8080/",
          "height": 267
        },
        "id": "Ge8t2h14i9Sf",
        "outputId": "a733c2d6-274b-4eaa-e360-1680a26ed1d5"
      },
      "execution_count": 11,
      "outputs": [
        {
          "output_type": "execute_result",
          "data": {
            "text/plain": [
              "   Phoenix Feather  Unicorn Horn  Dragon's Blood  Mermaid Tears  Fairy Dust  \\\n",
              "0             18.8           1.5            19.7            1.1        19.5   \n",
              "1              6.0           3.8            12.4           16.9        13.0   \n",
              "2             22.4           7.9            28.6           11.2         5.4   \n",
              "3             10.8           4.6             5.1           16.7        20.8   \n",
              "4              3.7           5.7             9.0            3.3        17.4   \n",
              "\n",
              "   Goblin Toes  Witch's Brew  Griffin Claw  Troll Hair  Kraken Ink  \\\n",
              "0         30.1          16.5           9.9        27.3         1.8   \n",
              "1         12.6          17.0          25.4         7.7        14.6   \n",
              "2          9.3          11.5          10.7         9.4        11.1   \n",
              "3         27.1           7.8          15.5        34.0         7.6   \n",
              "4         33.3           7.6          20.1        11.5         6.1   \n",
              "\n",
              "   Minotaur Horn  Basilisk Scale  Chimera Fang  \n",
              "0           18.9            25.3           2.0  \n",
              "1            3.8            23.7          17.9  \n",
              "2           21.4            29.1           7.5  \n",
              "3           16.5            27.3           3.2  \n",
              "4            5.2             6.1           1.9  "
            ],
            "text/html": [
              "\n",
              "  <div id=\"df-72cc8228-eda2-4403-80bb-6bdf4fabf32c\">\n",
              "    <div class=\"colab-df-container\">\n",
              "      <div>\n",
              "<style scoped>\n",
              "    .dataframe tbody tr th:only-of-type {\n",
              "        vertical-align: middle;\n",
              "    }\n",
              "\n",
              "    .dataframe tbody tr th {\n",
              "        vertical-align: top;\n",
              "    }\n",
              "\n",
              "    .dataframe thead th {\n",
              "        text-align: right;\n",
              "    }\n",
              "</style>\n",
              "<table border=\"1\" class=\"dataframe\">\n",
              "  <thead>\n",
              "    <tr style=\"text-align: right;\">\n",
              "      <th></th>\n",
              "      <th>Phoenix Feather</th>\n",
              "      <th>Unicorn Horn</th>\n",
              "      <th>Dragon's Blood</th>\n",
              "      <th>Mermaid Tears</th>\n",
              "      <th>Fairy Dust</th>\n",
              "      <th>Goblin Toes</th>\n",
              "      <th>Witch's Brew</th>\n",
              "      <th>Griffin Claw</th>\n",
              "      <th>Troll Hair</th>\n",
              "      <th>Kraken Ink</th>\n",
              "      <th>Minotaur Horn</th>\n",
              "      <th>Basilisk Scale</th>\n",
              "      <th>Chimera Fang</th>\n",
              "    </tr>\n",
              "  </thead>\n",
              "  <tbody>\n",
              "    <tr>\n",
              "      <th>0</th>\n",
              "      <td>18.8</td>\n",
              "      <td>1.5</td>\n",
              "      <td>19.7</td>\n",
              "      <td>1.1</td>\n",
              "      <td>19.5</td>\n",
              "      <td>30.1</td>\n",
              "      <td>16.5</td>\n",
              "      <td>9.9</td>\n",
              "      <td>27.3</td>\n",
              "      <td>1.8</td>\n",
              "      <td>18.9</td>\n",
              "      <td>25.3</td>\n",
              "      <td>2.0</td>\n",
              "    </tr>\n",
              "    <tr>\n",
              "      <th>1</th>\n",
              "      <td>6.0</td>\n",
              "      <td>3.8</td>\n",
              "      <td>12.4</td>\n",
              "      <td>16.9</td>\n",
              "      <td>13.0</td>\n",
              "      <td>12.6</td>\n",
              "      <td>17.0</td>\n",
              "      <td>25.4</td>\n",
              "      <td>7.7</td>\n",
              "      <td>14.6</td>\n",
              "      <td>3.8</td>\n",
              "      <td>23.7</td>\n",
              "      <td>17.9</td>\n",
              "    </tr>\n",
              "    <tr>\n",
              "      <th>2</th>\n",
              "      <td>22.4</td>\n",
              "      <td>7.9</td>\n",
              "      <td>28.6</td>\n",
              "      <td>11.2</td>\n",
              "      <td>5.4</td>\n",
              "      <td>9.3</td>\n",
              "      <td>11.5</td>\n",
              "      <td>10.7</td>\n",
              "      <td>9.4</td>\n",
              "      <td>11.1</td>\n",
              "      <td>21.4</td>\n",
              "      <td>29.1</td>\n",
              "      <td>7.5</td>\n",
              "    </tr>\n",
              "    <tr>\n",
              "      <th>3</th>\n",
              "      <td>10.8</td>\n",
              "      <td>4.6</td>\n",
              "      <td>5.1</td>\n",
              "      <td>16.7</td>\n",
              "      <td>20.8</td>\n",
              "      <td>27.1</td>\n",
              "      <td>7.8</td>\n",
              "      <td>15.5</td>\n",
              "      <td>34.0</td>\n",
              "      <td>7.6</td>\n",
              "      <td>16.5</td>\n",
              "      <td>27.3</td>\n",
              "      <td>3.2</td>\n",
              "    </tr>\n",
              "    <tr>\n",
              "      <th>4</th>\n",
              "      <td>3.7</td>\n",
              "      <td>5.7</td>\n",
              "      <td>9.0</td>\n",
              "      <td>3.3</td>\n",
              "      <td>17.4</td>\n",
              "      <td>33.3</td>\n",
              "      <td>7.6</td>\n",
              "      <td>20.1</td>\n",
              "      <td>11.5</td>\n",
              "      <td>6.1</td>\n",
              "      <td>5.2</td>\n",
              "      <td>6.1</td>\n",
              "      <td>1.9</td>\n",
              "    </tr>\n",
              "  </tbody>\n",
              "</table>\n",
              "</div>\n",
              "      <button class=\"colab-df-convert\" onclick=\"convertToInteractive('df-72cc8228-eda2-4403-80bb-6bdf4fabf32c')\"\n",
              "              title=\"Convert this dataframe to an interactive table.\"\n",
              "              style=\"display:none;\">\n",
              "        \n",
              "  <svg xmlns=\"http://www.w3.org/2000/svg\" height=\"24px\"viewBox=\"0 0 24 24\"\n",
              "       width=\"24px\">\n",
              "    <path d=\"M0 0h24v24H0V0z\" fill=\"none\"/>\n",
              "    <path d=\"M18.56 5.44l.94 2.06.94-2.06 2.06-.94-2.06-.94-.94-2.06-.94 2.06-2.06.94zm-11 1L8.5 8.5l.94-2.06 2.06-.94-2.06-.94L8.5 2.5l-.94 2.06-2.06.94zm10 10l.94 2.06.94-2.06 2.06-.94-2.06-.94-.94-2.06-.94 2.06-2.06.94z\"/><path d=\"M17.41 7.96l-1.37-1.37c-.4-.4-.92-.59-1.43-.59-.52 0-1.04.2-1.43.59L10.3 9.45l-7.72 7.72c-.78.78-.78 2.05 0 2.83L4 21.41c.39.39.9.59 1.41.59.51 0 1.02-.2 1.41-.59l7.78-7.78 2.81-2.81c.8-.78.8-2.07 0-2.86zM5.41 20L4 18.59l7.72-7.72 1.47 1.35L5.41 20z\"/>\n",
              "  </svg>\n",
              "      </button>\n",
              "      \n",
              "  <style>\n",
              "    .colab-df-container {\n",
              "      display:flex;\n",
              "      flex-wrap:wrap;\n",
              "      gap: 12px;\n",
              "    }\n",
              "\n",
              "    .colab-df-convert {\n",
              "      background-color: #E8F0FE;\n",
              "      border: none;\n",
              "      border-radius: 50%;\n",
              "      cursor: pointer;\n",
              "      display: none;\n",
              "      fill: #1967D2;\n",
              "      height: 32px;\n",
              "      padding: 0 0 0 0;\n",
              "      width: 32px;\n",
              "    }\n",
              "\n",
              "    .colab-df-convert:hover {\n",
              "      background-color: #E2EBFA;\n",
              "      box-shadow: 0px 1px 2px rgba(60, 64, 67, 0.3), 0px 1px 3px 1px rgba(60, 64, 67, 0.15);\n",
              "      fill: #174EA6;\n",
              "    }\n",
              "\n",
              "    [theme=dark] .colab-df-convert {\n",
              "      background-color: #3B4455;\n",
              "      fill: #D2E3FC;\n",
              "    }\n",
              "\n",
              "    [theme=dark] .colab-df-convert:hover {\n",
              "      background-color: #434B5C;\n",
              "      box-shadow: 0px 1px 3px 1px rgba(0, 0, 0, 0.15);\n",
              "      filter: drop-shadow(0px 1px 2px rgba(0, 0, 0, 0.3));\n",
              "      fill: #FFFFFF;\n",
              "    }\n",
              "  </style>\n",
              "\n",
              "      <script>\n",
              "        const buttonEl =\n",
              "          document.querySelector('#df-72cc8228-eda2-4403-80bb-6bdf4fabf32c button.colab-df-convert');\n",
              "        buttonEl.style.display =\n",
              "          google.colab.kernel.accessAllowed ? 'block' : 'none';\n",
              "\n",
              "        async function convertToInteractive(key) {\n",
              "          const element = document.querySelector('#df-72cc8228-eda2-4403-80bb-6bdf4fabf32c');\n",
              "          const dataTable =\n",
              "            await google.colab.kernel.invokeFunction('convertToInteractive',\n",
              "                                                     [key], {});\n",
              "          if (!dataTable) return;\n",
              "\n",
              "          const docLinkHtml = 'Like what you see? Visit the ' +\n",
              "            '<a target=\"_blank\" href=https://colab.research.google.com/notebooks/data_table.ipynb>data table notebook</a>'\n",
              "            + ' to learn more about interactive tables.';\n",
              "          element.innerHTML = '';\n",
              "          dataTable['output_type'] = 'display_data';\n",
              "          await google.colab.output.renderOutput(dataTable, element);\n",
              "          const docLink = document.createElement('div');\n",
              "          docLink.innerHTML = docLinkHtml;\n",
              "          element.appendChild(docLink);\n",
              "        }\n",
              "      </script>\n",
              "    </div>\n",
              "  </div>\n",
              "  "
            ]
          },
          "metadata": {},
          "execution_count": 11
        }
      ]
    },
    {
      "cell_type": "code",
      "source": [
        "train_labels = train_dataset.iloc[:,-1]\n",
        "train_labels"
      ],
      "metadata": {
        "colab": {
          "base_uri": "https://localhost:8080/"
        },
        "id": "Dsxk0YkSjydv",
        "outputId": "9f904cc6-a4e2-4c23-f329-24d28d7360bc"
      },
      "execution_count": 12,
      "outputs": [
        {
          "output_type": "execute_result",
          "data": {
            "text/plain": [
              "0       1\n",
              "1       0\n",
              "2       0\n",
              "3       1\n",
              "4       0\n",
              "       ..\n",
              "1247    1\n",
              "1248    1\n",
              "1249    0\n",
              "1250    1\n",
              "1251    0\n",
              "Name: Cured, Length: 1252, dtype: int64"
            ]
          },
          "metadata": {},
          "execution_count": 12
        }
      ]
    },
    {
      "cell_type": "markdown",
      "source": [
        "**train_inputs** değişkenine girdilerimizi, **train_labels** değişkenine ise girdilere karşılık gelen sonuçları atadık. Şimdi bunları tensöre çevirelim."
      ],
      "metadata": {
        "id": "-pyxyh97kQUh"
      }
    },
    {
      "cell_type": "code",
      "source": [
        "train_inputs = torch.tensor(train_inputs.values, dtype=torch.float32)\n",
        "train_inputs"
      ],
      "metadata": {
        "colab": {
          "base_uri": "https://localhost:8080/"
        },
        "id": "jhbJcd2Wi7xW",
        "outputId": "e92478fd-083d-4d75-cf98-ae910f6ccacc"
      },
      "execution_count": 13,
      "outputs": [
        {
          "output_type": "execute_result",
          "data": {
            "text/plain": [
              "tensor([[18.8000,  1.5000, 19.7000,  ..., 18.9000, 25.3000,  2.0000],\n",
              "        [ 6.0000,  3.8000, 12.4000,  ...,  3.8000, 23.7000, 17.9000],\n",
              "        [22.4000,  7.9000, 28.6000,  ..., 21.4000, 29.1000,  7.5000],\n",
              "        ...,\n",
              "        [22.4000, 19.6000,  7.4000,  ..., 12.2000, 15.4000,  8.3000],\n",
              "        [22.5000, 12.5000, 24.5000,  ...,  5.5000, 12.7000, 25.9000],\n",
              "        [12.3000, 17.6000, 13.0000,  ...,  4.5000, 11.1000,  6.0000]])"
            ]
          },
          "metadata": {},
          "execution_count": 13
        }
      ]
    },
    {
      "cell_type": "code",
      "source": [
        "train_inputs.size()"
      ],
      "metadata": {
        "colab": {
          "base_uri": "https://localhost:8080/"
        },
        "id": "TiLaq97Boou8",
        "outputId": "79896fd2-f080-4b9e-e1ec-675cefa93232"
      },
      "execution_count": 14,
      "outputs": [
        {
          "output_type": "execute_result",
          "data": {
            "text/plain": [
              "torch.Size([1252, 13])"
            ]
          },
          "metadata": {},
          "execution_count": 14
        }
      ]
    },
    {
      "cell_type": "code",
      "source": [
        "train_labels = torch.tensor(train_labels.values, dtype=torch.float32)\n",
        "train_labels"
      ],
      "metadata": {
        "colab": {
          "base_uri": "https://localhost:8080/"
        },
        "id": "-hpU2g0mnMt5",
        "outputId": "b73825d1-2dde-42ed-9de8-96c031e96b98"
      },
      "execution_count": 15,
      "outputs": [
        {
          "output_type": "execute_result",
          "data": {
            "text/plain": [
              "tensor([1., 0., 0.,  ..., 0., 1., 0.])"
            ]
          },
          "metadata": {},
          "execution_count": 15
        }
      ]
    },
    {
      "cell_type": "code",
      "source": [
        "train_labels.size()"
      ],
      "metadata": {
        "colab": {
          "base_uri": "https://localhost:8080/"
        },
        "id": "JHmUybP5m5d5",
        "outputId": "5b199ed8-b6d4-4aa6-92af-bc200f9abd77"
      },
      "execution_count": 16,
      "outputs": [
        {
          "output_type": "execute_result",
          "data": {
            "text/plain": [
              "torch.Size([1252])"
            ]
          },
          "metadata": {},
          "execution_count": 16
        }
      ]
    },
    {
      "cell_type": "markdown",
      "source": [
        "Aynı işlemleri validation ve test setindeki verilerimiz için de yapalım."
      ],
      "metadata": {
        "id": "5BkflgeaH_dL"
      }
    },
    {
      "cell_type": "code",
      "source": [
        "val_inputs = val_dataset.iloc[:,:-1]\n",
        "val_inputs"
      ],
      "metadata": {
        "colab": {
          "base_uri": "https://localhost:8080/",
          "height": 485
        },
        "id": "AFEN99zbIHCD",
        "outputId": "0d70662a-e7e0-489d-ad37-4c1345970c48"
      },
      "execution_count": 17,
      "outputs": [
        {
          "output_type": "execute_result",
          "data": {
            "text/plain": [
              "     Phoenix Feather  Unicorn Horn  Dragon's Blood  Mermaid Tears  Fairy Dust  \\\n",
              "0               13.1           7.6            11.6           11.0         4.7   \n",
              "1               24.8          26.4            13.4            3.7         8.8   \n",
              "2                5.8          21.2             6.8           13.2        26.2   \n",
              "3                6.5          13.8            25.5            3.8        12.9   \n",
              "4               22.1          17.4             4.9           20.8        10.8   \n",
              "..               ...           ...             ...            ...         ...   \n",
              "309             19.4          21.1            16.2           10.1        17.7   \n",
              "310              1.2           8.0            20.4            2.0        33.4   \n",
              "311             21.9           5.5            11.5            5.0        27.9   \n",
              "312              4.4          24.4            10.5           24.1        26.3   \n",
              "313             18.3           3.0            10.5           11.0        11.4   \n",
              "\n",
              "     Goblin Toes  Witch's Brew  Griffin Claw  Troll Hair  Kraken Ink  \\\n",
              "0           26.8           6.1           4.5        17.1         8.6   \n",
              "1           37.0           1.7          14.3        30.2         5.1   \n",
              "2           14.5          20.1          26.4         9.0         3.1   \n",
              "3            5.0           1.9          18.7         1.4         9.4   \n",
              "4            9.4           7.3          15.2        33.5        15.2   \n",
              "..           ...           ...           ...         ...         ...   \n",
              "309         13.7          14.8          24.9         5.3        12.2   \n",
              "310         19.6          22.1          10.4        18.9         5.9   \n",
              "311         20.9          20.5          22.7        33.9         7.4   \n",
              "312          6.5          27.1          22.6         9.4        22.1   \n",
              "313          5.3           2.0           5.8        19.5        10.5   \n",
              "\n",
              "     Minotaur Horn  Basilisk Scale  Chimera Fang  \n",
              "0             10.0            13.7          18.6  \n",
              "1              2.0             2.7           5.6  \n",
              "2              6.5            17.9           3.8  \n",
              "3             24.4            22.7          10.7  \n",
              "4             20.0            18.6          14.4  \n",
              "..             ...             ...           ...  \n",
              "309           10.6            14.8          16.3  \n",
              "310           18.2            16.4           8.5  \n",
              "311            3.6            38.4           5.2  \n",
              "312           21.2            25.5           4.0  \n",
              "313            6.3            11.1          14.7  \n",
              "\n",
              "[314 rows x 13 columns]"
            ],
            "text/html": [
              "\n",
              "  <div id=\"df-c9d1fa78-1bd8-4de1-901d-97ea38cc3476\">\n",
              "    <div class=\"colab-df-container\">\n",
              "      <div>\n",
              "<style scoped>\n",
              "    .dataframe tbody tr th:only-of-type {\n",
              "        vertical-align: middle;\n",
              "    }\n",
              "\n",
              "    .dataframe tbody tr th {\n",
              "        vertical-align: top;\n",
              "    }\n",
              "\n",
              "    .dataframe thead th {\n",
              "        text-align: right;\n",
              "    }\n",
              "</style>\n",
              "<table border=\"1\" class=\"dataframe\">\n",
              "  <thead>\n",
              "    <tr style=\"text-align: right;\">\n",
              "      <th></th>\n",
              "      <th>Phoenix Feather</th>\n",
              "      <th>Unicorn Horn</th>\n",
              "      <th>Dragon's Blood</th>\n",
              "      <th>Mermaid Tears</th>\n",
              "      <th>Fairy Dust</th>\n",
              "      <th>Goblin Toes</th>\n",
              "      <th>Witch's Brew</th>\n",
              "      <th>Griffin Claw</th>\n",
              "      <th>Troll Hair</th>\n",
              "      <th>Kraken Ink</th>\n",
              "      <th>Minotaur Horn</th>\n",
              "      <th>Basilisk Scale</th>\n",
              "      <th>Chimera Fang</th>\n",
              "    </tr>\n",
              "  </thead>\n",
              "  <tbody>\n",
              "    <tr>\n",
              "      <th>0</th>\n",
              "      <td>13.1</td>\n",
              "      <td>7.6</td>\n",
              "      <td>11.6</td>\n",
              "      <td>11.0</td>\n",
              "      <td>4.7</td>\n",
              "      <td>26.8</td>\n",
              "      <td>6.1</td>\n",
              "      <td>4.5</td>\n",
              "      <td>17.1</td>\n",
              "      <td>8.6</td>\n",
              "      <td>10.0</td>\n",
              "      <td>13.7</td>\n",
              "      <td>18.6</td>\n",
              "    </tr>\n",
              "    <tr>\n",
              "      <th>1</th>\n",
              "      <td>24.8</td>\n",
              "      <td>26.4</td>\n",
              "      <td>13.4</td>\n",
              "      <td>3.7</td>\n",
              "      <td>8.8</td>\n",
              "      <td>37.0</td>\n",
              "      <td>1.7</td>\n",
              "      <td>14.3</td>\n",
              "      <td>30.2</td>\n",
              "      <td>5.1</td>\n",
              "      <td>2.0</td>\n",
              "      <td>2.7</td>\n",
              "      <td>5.6</td>\n",
              "    </tr>\n",
              "    <tr>\n",
              "      <th>2</th>\n",
              "      <td>5.8</td>\n",
              "      <td>21.2</td>\n",
              "      <td>6.8</td>\n",
              "      <td>13.2</td>\n",
              "      <td>26.2</td>\n",
              "      <td>14.5</td>\n",
              "      <td>20.1</td>\n",
              "      <td>26.4</td>\n",
              "      <td>9.0</td>\n",
              "      <td>3.1</td>\n",
              "      <td>6.5</td>\n",
              "      <td>17.9</td>\n",
              "      <td>3.8</td>\n",
              "    </tr>\n",
              "    <tr>\n",
              "      <th>3</th>\n",
              "      <td>6.5</td>\n",
              "      <td>13.8</td>\n",
              "      <td>25.5</td>\n",
              "      <td>3.8</td>\n",
              "      <td>12.9</td>\n",
              "      <td>5.0</td>\n",
              "      <td>1.9</td>\n",
              "      <td>18.7</td>\n",
              "      <td>1.4</td>\n",
              "      <td>9.4</td>\n",
              "      <td>24.4</td>\n",
              "      <td>22.7</td>\n",
              "      <td>10.7</td>\n",
              "    </tr>\n",
              "    <tr>\n",
              "      <th>4</th>\n",
              "      <td>22.1</td>\n",
              "      <td>17.4</td>\n",
              "      <td>4.9</td>\n",
              "      <td>20.8</td>\n",
              "      <td>10.8</td>\n",
              "      <td>9.4</td>\n",
              "      <td>7.3</td>\n",
              "      <td>15.2</td>\n",
              "      <td>33.5</td>\n",
              "      <td>15.2</td>\n",
              "      <td>20.0</td>\n",
              "      <td>18.6</td>\n",
              "      <td>14.4</td>\n",
              "    </tr>\n",
              "    <tr>\n",
              "      <th>...</th>\n",
              "      <td>...</td>\n",
              "      <td>...</td>\n",
              "      <td>...</td>\n",
              "      <td>...</td>\n",
              "      <td>...</td>\n",
              "      <td>...</td>\n",
              "      <td>...</td>\n",
              "      <td>...</td>\n",
              "      <td>...</td>\n",
              "      <td>...</td>\n",
              "      <td>...</td>\n",
              "      <td>...</td>\n",
              "      <td>...</td>\n",
              "    </tr>\n",
              "    <tr>\n",
              "      <th>309</th>\n",
              "      <td>19.4</td>\n",
              "      <td>21.1</td>\n",
              "      <td>16.2</td>\n",
              "      <td>10.1</td>\n",
              "      <td>17.7</td>\n",
              "      <td>13.7</td>\n",
              "      <td>14.8</td>\n",
              "      <td>24.9</td>\n",
              "      <td>5.3</td>\n",
              "      <td>12.2</td>\n",
              "      <td>10.6</td>\n",
              "      <td>14.8</td>\n",
              "      <td>16.3</td>\n",
              "    </tr>\n",
              "    <tr>\n",
              "      <th>310</th>\n",
              "      <td>1.2</td>\n",
              "      <td>8.0</td>\n",
              "      <td>20.4</td>\n",
              "      <td>2.0</td>\n",
              "      <td>33.4</td>\n",
              "      <td>19.6</td>\n",
              "      <td>22.1</td>\n",
              "      <td>10.4</td>\n",
              "      <td>18.9</td>\n",
              "      <td>5.9</td>\n",
              "      <td>18.2</td>\n",
              "      <td>16.4</td>\n",
              "      <td>8.5</td>\n",
              "    </tr>\n",
              "    <tr>\n",
              "      <th>311</th>\n",
              "      <td>21.9</td>\n",
              "      <td>5.5</td>\n",
              "      <td>11.5</td>\n",
              "      <td>5.0</td>\n",
              "      <td>27.9</td>\n",
              "      <td>20.9</td>\n",
              "      <td>20.5</td>\n",
              "      <td>22.7</td>\n",
              "      <td>33.9</td>\n",
              "      <td>7.4</td>\n",
              "      <td>3.6</td>\n",
              "      <td>38.4</td>\n",
              "      <td>5.2</td>\n",
              "    </tr>\n",
              "    <tr>\n",
              "      <th>312</th>\n",
              "      <td>4.4</td>\n",
              "      <td>24.4</td>\n",
              "      <td>10.5</td>\n",
              "      <td>24.1</td>\n",
              "      <td>26.3</td>\n",
              "      <td>6.5</td>\n",
              "      <td>27.1</td>\n",
              "      <td>22.6</td>\n",
              "      <td>9.4</td>\n",
              "      <td>22.1</td>\n",
              "      <td>21.2</td>\n",
              "      <td>25.5</td>\n",
              "      <td>4.0</td>\n",
              "    </tr>\n",
              "    <tr>\n",
              "      <th>313</th>\n",
              "      <td>18.3</td>\n",
              "      <td>3.0</td>\n",
              "      <td>10.5</td>\n",
              "      <td>11.0</td>\n",
              "      <td>11.4</td>\n",
              "      <td>5.3</td>\n",
              "      <td>2.0</td>\n",
              "      <td>5.8</td>\n",
              "      <td>19.5</td>\n",
              "      <td>10.5</td>\n",
              "      <td>6.3</td>\n",
              "      <td>11.1</td>\n",
              "      <td>14.7</td>\n",
              "    </tr>\n",
              "  </tbody>\n",
              "</table>\n",
              "<p>314 rows × 13 columns</p>\n",
              "</div>\n",
              "      <button class=\"colab-df-convert\" onclick=\"convertToInteractive('df-c9d1fa78-1bd8-4de1-901d-97ea38cc3476')\"\n",
              "              title=\"Convert this dataframe to an interactive table.\"\n",
              "              style=\"display:none;\">\n",
              "        \n",
              "  <svg xmlns=\"http://www.w3.org/2000/svg\" height=\"24px\"viewBox=\"0 0 24 24\"\n",
              "       width=\"24px\">\n",
              "    <path d=\"M0 0h24v24H0V0z\" fill=\"none\"/>\n",
              "    <path d=\"M18.56 5.44l.94 2.06.94-2.06 2.06-.94-2.06-.94-.94-2.06-.94 2.06-2.06.94zm-11 1L8.5 8.5l.94-2.06 2.06-.94-2.06-.94L8.5 2.5l-.94 2.06-2.06.94zm10 10l.94 2.06.94-2.06 2.06-.94-2.06-.94-.94-2.06-.94 2.06-2.06.94z\"/><path d=\"M17.41 7.96l-1.37-1.37c-.4-.4-.92-.59-1.43-.59-.52 0-1.04.2-1.43.59L10.3 9.45l-7.72 7.72c-.78.78-.78 2.05 0 2.83L4 21.41c.39.39.9.59 1.41.59.51 0 1.02-.2 1.41-.59l7.78-7.78 2.81-2.81c.8-.78.8-2.07 0-2.86zM5.41 20L4 18.59l7.72-7.72 1.47 1.35L5.41 20z\"/>\n",
              "  </svg>\n",
              "      </button>\n",
              "      \n",
              "  <style>\n",
              "    .colab-df-container {\n",
              "      display:flex;\n",
              "      flex-wrap:wrap;\n",
              "      gap: 12px;\n",
              "    }\n",
              "\n",
              "    .colab-df-convert {\n",
              "      background-color: #E8F0FE;\n",
              "      border: none;\n",
              "      border-radius: 50%;\n",
              "      cursor: pointer;\n",
              "      display: none;\n",
              "      fill: #1967D2;\n",
              "      height: 32px;\n",
              "      padding: 0 0 0 0;\n",
              "      width: 32px;\n",
              "    }\n",
              "\n",
              "    .colab-df-convert:hover {\n",
              "      background-color: #E2EBFA;\n",
              "      box-shadow: 0px 1px 2px rgba(60, 64, 67, 0.3), 0px 1px 3px 1px rgba(60, 64, 67, 0.15);\n",
              "      fill: #174EA6;\n",
              "    }\n",
              "\n",
              "    [theme=dark] .colab-df-convert {\n",
              "      background-color: #3B4455;\n",
              "      fill: #D2E3FC;\n",
              "    }\n",
              "\n",
              "    [theme=dark] .colab-df-convert:hover {\n",
              "      background-color: #434B5C;\n",
              "      box-shadow: 0px 1px 3px 1px rgba(0, 0, 0, 0.15);\n",
              "      filter: drop-shadow(0px 1px 2px rgba(0, 0, 0, 0.3));\n",
              "      fill: #FFFFFF;\n",
              "    }\n",
              "  </style>\n",
              "\n",
              "      <script>\n",
              "        const buttonEl =\n",
              "          document.querySelector('#df-c9d1fa78-1bd8-4de1-901d-97ea38cc3476 button.colab-df-convert');\n",
              "        buttonEl.style.display =\n",
              "          google.colab.kernel.accessAllowed ? 'block' : 'none';\n",
              "\n",
              "        async function convertToInteractive(key) {\n",
              "          const element = document.querySelector('#df-c9d1fa78-1bd8-4de1-901d-97ea38cc3476');\n",
              "          const dataTable =\n",
              "            await google.colab.kernel.invokeFunction('convertToInteractive',\n",
              "                                                     [key], {});\n",
              "          if (!dataTable) return;\n",
              "\n",
              "          const docLinkHtml = 'Like what you see? Visit the ' +\n",
              "            '<a target=\"_blank\" href=https://colab.research.google.com/notebooks/data_table.ipynb>data table notebook</a>'\n",
              "            + ' to learn more about interactive tables.';\n",
              "          element.innerHTML = '';\n",
              "          dataTable['output_type'] = 'display_data';\n",
              "          await google.colab.output.renderOutput(dataTable, element);\n",
              "          const docLink = document.createElement('div');\n",
              "          docLink.innerHTML = docLinkHtml;\n",
              "          element.appendChild(docLink);\n",
              "        }\n",
              "      </script>\n",
              "    </div>\n",
              "  </div>\n",
              "  "
            ]
          },
          "metadata": {},
          "execution_count": 17
        }
      ]
    },
    {
      "cell_type": "code",
      "source": [
        "val_labels = val_dataset.iloc[:,-1]\n",
        "val_labels"
      ],
      "metadata": {
        "colab": {
          "base_uri": "https://localhost:8080/"
        },
        "id": "SREmAloxIhm3",
        "outputId": "5fdcc0a0-dd34-4858-9b41-e2f6940c0eae"
      },
      "execution_count": 18,
      "outputs": [
        {
          "output_type": "execute_result",
          "data": {
            "text/plain": [
              "0      0\n",
              "1      1\n",
              "2      1\n",
              "3      0\n",
              "4      1\n",
              "      ..\n",
              "309    0\n",
              "310    1\n",
              "311    1\n",
              "312    0\n",
              "313    1\n",
              "Name: Cured, Length: 314, dtype: int64"
            ]
          },
          "metadata": {},
          "execution_count": 18
        }
      ]
    },
    {
      "cell_type": "code",
      "source": [
        "test_inputs = test_dataset.iloc[:,:-1]\n",
        "test_inputs"
      ],
      "metadata": {
        "colab": {
          "base_uri": "https://localhost:8080/",
          "height": 485
        },
        "id": "Q32C4IVbIw3U",
        "outputId": "4b54b16e-8cb2-4048-de6f-c59538fb6304"
      },
      "execution_count": 19,
      "outputs": [
        {
          "output_type": "execute_result",
          "data": {
            "text/plain": [
              "     Phoenix Feather  Unicorn Horn  Dragon's Blood  Mermaid Tears  Fairy Dust  \\\n",
              "0               10.0          15.3            27.1           13.3        18.1   \n",
              "1               31.6           1.9            25.2           17.9        16.4   \n",
              "2               22.4           9.2            23.7           14.9        18.2   \n",
              "3               24.5           2.3             2.2           26.2         7.3   \n",
              "4                3.2          20.2            12.9           13.3         7.7   \n",
              "..               ...           ...             ...            ...         ...   \n",
              "767             13.7           2.7            15.4            5.1        11.9   \n",
              "768             24.3           5.6            19.4           10.0        15.3   \n",
              "769              5.7           2.1            22.3           26.0        23.9   \n",
              "770              6.8          16.1            17.5           20.9         2.3   \n",
              "771             12.7          12.6            24.5           19.7        24.0   \n",
              "\n",
              "     Goblin Toes  Witch's Brew  Griffin Claw  Troll Hair  Kraken Ink  \\\n",
              "0           12.3           4.8          24.0        10.0        17.5   \n",
              "1            2.4           4.2           6.4        32.5        21.9   \n",
              "2           10.5           6.8          15.3        21.0        16.8   \n",
              "3            2.8          20.6           7.8        23.0        17.0   \n",
              "4           29.6           2.6          12.9        12.7        13.8   \n",
              "..           ...           ...           ...         ...         ...   \n",
              "767          4.2           4.4           5.1        15.2        13.2   \n",
              "768         23.8           4.4          13.7        31.7        13.2   \n",
              "769         20.9          29.6          13.4        10.9        21.9   \n",
              "770         10.6          20.3          15.3        21.9        18.8   \n",
              "771          2.7           6.4          21.7        16.2        27.5   \n",
              "\n",
              "     Minotaur Horn  Basilisk Scale  Chimera Fang  \n",
              "0              5.9            27.6           8.6  \n",
              "1             19.7            12.4          17.4  \n",
              "2             31.6            19.4          11.6  \n",
              "3              2.7             7.6          26.0  \n",
              "4              8.9             6.5           9.1  \n",
              "..             ...             ...           ...  \n",
              "767            3.5             9.4          19.3  \n",
              "768           15.2            11.5           4.9  \n",
              "769            4.7            21.9          11.1  \n",
              "770            3.5            17.6          17.4  \n",
              "771           10.6            14.7           4.0  \n",
              "\n",
              "[772 rows x 13 columns]"
            ],
            "text/html": [
              "\n",
              "  <div id=\"df-4215adf2-7039-4d92-aee7-2e6032eb16a5\">\n",
              "    <div class=\"colab-df-container\">\n",
              "      <div>\n",
              "<style scoped>\n",
              "    .dataframe tbody tr th:only-of-type {\n",
              "        vertical-align: middle;\n",
              "    }\n",
              "\n",
              "    .dataframe tbody tr th {\n",
              "        vertical-align: top;\n",
              "    }\n",
              "\n",
              "    .dataframe thead th {\n",
              "        text-align: right;\n",
              "    }\n",
              "</style>\n",
              "<table border=\"1\" class=\"dataframe\">\n",
              "  <thead>\n",
              "    <tr style=\"text-align: right;\">\n",
              "      <th></th>\n",
              "      <th>Phoenix Feather</th>\n",
              "      <th>Unicorn Horn</th>\n",
              "      <th>Dragon's Blood</th>\n",
              "      <th>Mermaid Tears</th>\n",
              "      <th>Fairy Dust</th>\n",
              "      <th>Goblin Toes</th>\n",
              "      <th>Witch's Brew</th>\n",
              "      <th>Griffin Claw</th>\n",
              "      <th>Troll Hair</th>\n",
              "      <th>Kraken Ink</th>\n",
              "      <th>Minotaur Horn</th>\n",
              "      <th>Basilisk Scale</th>\n",
              "      <th>Chimera Fang</th>\n",
              "    </tr>\n",
              "  </thead>\n",
              "  <tbody>\n",
              "    <tr>\n",
              "      <th>0</th>\n",
              "      <td>10.0</td>\n",
              "      <td>15.3</td>\n",
              "      <td>27.1</td>\n",
              "      <td>13.3</td>\n",
              "      <td>18.1</td>\n",
              "      <td>12.3</td>\n",
              "      <td>4.8</td>\n",
              "      <td>24.0</td>\n",
              "      <td>10.0</td>\n",
              "      <td>17.5</td>\n",
              "      <td>5.9</td>\n",
              "      <td>27.6</td>\n",
              "      <td>8.6</td>\n",
              "    </tr>\n",
              "    <tr>\n",
              "      <th>1</th>\n",
              "      <td>31.6</td>\n",
              "      <td>1.9</td>\n",
              "      <td>25.2</td>\n",
              "      <td>17.9</td>\n",
              "      <td>16.4</td>\n",
              "      <td>2.4</td>\n",
              "      <td>4.2</td>\n",
              "      <td>6.4</td>\n",
              "      <td>32.5</td>\n",
              "      <td>21.9</td>\n",
              "      <td>19.7</td>\n",
              "      <td>12.4</td>\n",
              "      <td>17.4</td>\n",
              "    </tr>\n",
              "    <tr>\n",
              "      <th>2</th>\n",
              "      <td>22.4</td>\n",
              "      <td>9.2</td>\n",
              "      <td>23.7</td>\n",
              "      <td>14.9</td>\n",
              "      <td>18.2</td>\n",
              "      <td>10.5</td>\n",
              "      <td>6.8</td>\n",
              "      <td>15.3</td>\n",
              "      <td>21.0</td>\n",
              "      <td>16.8</td>\n",
              "      <td>31.6</td>\n",
              "      <td>19.4</td>\n",
              "      <td>11.6</td>\n",
              "    </tr>\n",
              "    <tr>\n",
              "      <th>3</th>\n",
              "      <td>24.5</td>\n",
              "      <td>2.3</td>\n",
              "      <td>2.2</td>\n",
              "      <td>26.2</td>\n",
              "      <td>7.3</td>\n",
              "      <td>2.8</td>\n",
              "      <td>20.6</td>\n",
              "      <td>7.8</td>\n",
              "      <td>23.0</td>\n",
              "      <td>17.0</td>\n",
              "      <td>2.7</td>\n",
              "      <td>7.6</td>\n",
              "      <td>26.0</td>\n",
              "    </tr>\n",
              "    <tr>\n",
              "      <th>4</th>\n",
              "      <td>3.2</td>\n",
              "      <td>20.2</td>\n",
              "      <td>12.9</td>\n",
              "      <td>13.3</td>\n",
              "      <td>7.7</td>\n",
              "      <td>29.6</td>\n",
              "      <td>2.6</td>\n",
              "      <td>12.9</td>\n",
              "      <td>12.7</td>\n",
              "      <td>13.8</td>\n",
              "      <td>8.9</td>\n",
              "      <td>6.5</td>\n",
              "      <td>9.1</td>\n",
              "    </tr>\n",
              "    <tr>\n",
              "      <th>...</th>\n",
              "      <td>...</td>\n",
              "      <td>...</td>\n",
              "      <td>...</td>\n",
              "      <td>...</td>\n",
              "      <td>...</td>\n",
              "      <td>...</td>\n",
              "      <td>...</td>\n",
              "      <td>...</td>\n",
              "      <td>...</td>\n",
              "      <td>...</td>\n",
              "      <td>...</td>\n",
              "      <td>...</td>\n",
              "      <td>...</td>\n",
              "    </tr>\n",
              "    <tr>\n",
              "      <th>767</th>\n",
              "      <td>13.7</td>\n",
              "      <td>2.7</td>\n",
              "      <td>15.4</td>\n",
              "      <td>5.1</td>\n",
              "      <td>11.9</td>\n",
              "      <td>4.2</td>\n",
              "      <td>4.4</td>\n",
              "      <td>5.1</td>\n",
              "      <td>15.2</td>\n",
              "      <td>13.2</td>\n",
              "      <td>3.5</td>\n",
              "      <td>9.4</td>\n",
              "      <td>19.3</td>\n",
              "    </tr>\n",
              "    <tr>\n",
              "      <th>768</th>\n",
              "      <td>24.3</td>\n",
              "      <td>5.6</td>\n",
              "      <td>19.4</td>\n",
              "      <td>10.0</td>\n",
              "      <td>15.3</td>\n",
              "      <td>23.8</td>\n",
              "      <td>4.4</td>\n",
              "      <td>13.7</td>\n",
              "      <td>31.7</td>\n",
              "      <td>13.2</td>\n",
              "      <td>15.2</td>\n",
              "      <td>11.5</td>\n",
              "      <td>4.9</td>\n",
              "    </tr>\n",
              "    <tr>\n",
              "      <th>769</th>\n",
              "      <td>5.7</td>\n",
              "      <td>2.1</td>\n",
              "      <td>22.3</td>\n",
              "      <td>26.0</td>\n",
              "      <td>23.9</td>\n",
              "      <td>20.9</td>\n",
              "      <td>29.6</td>\n",
              "      <td>13.4</td>\n",
              "      <td>10.9</td>\n",
              "      <td>21.9</td>\n",
              "      <td>4.7</td>\n",
              "      <td>21.9</td>\n",
              "      <td>11.1</td>\n",
              "    </tr>\n",
              "    <tr>\n",
              "      <th>770</th>\n",
              "      <td>6.8</td>\n",
              "      <td>16.1</td>\n",
              "      <td>17.5</td>\n",
              "      <td>20.9</td>\n",
              "      <td>2.3</td>\n",
              "      <td>10.6</td>\n",
              "      <td>20.3</td>\n",
              "      <td>15.3</td>\n",
              "      <td>21.9</td>\n",
              "      <td>18.8</td>\n",
              "      <td>3.5</td>\n",
              "      <td>17.6</td>\n",
              "      <td>17.4</td>\n",
              "    </tr>\n",
              "    <tr>\n",
              "      <th>771</th>\n",
              "      <td>12.7</td>\n",
              "      <td>12.6</td>\n",
              "      <td>24.5</td>\n",
              "      <td>19.7</td>\n",
              "      <td>24.0</td>\n",
              "      <td>2.7</td>\n",
              "      <td>6.4</td>\n",
              "      <td>21.7</td>\n",
              "      <td>16.2</td>\n",
              "      <td>27.5</td>\n",
              "      <td>10.6</td>\n",
              "      <td>14.7</td>\n",
              "      <td>4.0</td>\n",
              "    </tr>\n",
              "  </tbody>\n",
              "</table>\n",
              "<p>772 rows × 13 columns</p>\n",
              "</div>\n",
              "      <button class=\"colab-df-convert\" onclick=\"convertToInteractive('df-4215adf2-7039-4d92-aee7-2e6032eb16a5')\"\n",
              "              title=\"Convert this dataframe to an interactive table.\"\n",
              "              style=\"display:none;\">\n",
              "        \n",
              "  <svg xmlns=\"http://www.w3.org/2000/svg\" height=\"24px\"viewBox=\"0 0 24 24\"\n",
              "       width=\"24px\">\n",
              "    <path d=\"M0 0h24v24H0V0z\" fill=\"none\"/>\n",
              "    <path d=\"M18.56 5.44l.94 2.06.94-2.06 2.06-.94-2.06-.94-.94-2.06-.94 2.06-2.06.94zm-11 1L8.5 8.5l.94-2.06 2.06-.94-2.06-.94L8.5 2.5l-.94 2.06-2.06.94zm10 10l.94 2.06.94-2.06 2.06-.94-2.06-.94-.94-2.06-.94 2.06-2.06.94z\"/><path d=\"M17.41 7.96l-1.37-1.37c-.4-.4-.92-.59-1.43-.59-.52 0-1.04.2-1.43.59L10.3 9.45l-7.72 7.72c-.78.78-.78 2.05 0 2.83L4 21.41c.39.39.9.59 1.41.59.51 0 1.02-.2 1.41-.59l7.78-7.78 2.81-2.81c.8-.78.8-2.07 0-2.86zM5.41 20L4 18.59l7.72-7.72 1.47 1.35L5.41 20z\"/>\n",
              "  </svg>\n",
              "      </button>\n",
              "      \n",
              "  <style>\n",
              "    .colab-df-container {\n",
              "      display:flex;\n",
              "      flex-wrap:wrap;\n",
              "      gap: 12px;\n",
              "    }\n",
              "\n",
              "    .colab-df-convert {\n",
              "      background-color: #E8F0FE;\n",
              "      border: none;\n",
              "      border-radius: 50%;\n",
              "      cursor: pointer;\n",
              "      display: none;\n",
              "      fill: #1967D2;\n",
              "      height: 32px;\n",
              "      padding: 0 0 0 0;\n",
              "      width: 32px;\n",
              "    }\n",
              "\n",
              "    .colab-df-convert:hover {\n",
              "      background-color: #E2EBFA;\n",
              "      box-shadow: 0px 1px 2px rgba(60, 64, 67, 0.3), 0px 1px 3px 1px rgba(60, 64, 67, 0.15);\n",
              "      fill: #174EA6;\n",
              "    }\n",
              "\n",
              "    [theme=dark] .colab-df-convert {\n",
              "      background-color: #3B4455;\n",
              "      fill: #D2E3FC;\n",
              "    }\n",
              "\n",
              "    [theme=dark] .colab-df-convert:hover {\n",
              "      background-color: #434B5C;\n",
              "      box-shadow: 0px 1px 3px 1px rgba(0, 0, 0, 0.15);\n",
              "      filter: drop-shadow(0px 1px 2px rgba(0, 0, 0, 0.3));\n",
              "      fill: #FFFFFF;\n",
              "    }\n",
              "  </style>\n",
              "\n",
              "      <script>\n",
              "        const buttonEl =\n",
              "          document.querySelector('#df-4215adf2-7039-4d92-aee7-2e6032eb16a5 button.colab-df-convert');\n",
              "        buttonEl.style.display =\n",
              "          google.colab.kernel.accessAllowed ? 'block' : 'none';\n",
              "\n",
              "        async function convertToInteractive(key) {\n",
              "          const element = document.querySelector('#df-4215adf2-7039-4d92-aee7-2e6032eb16a5');\n",
              "          const dataTable =\n",
              "            await google.colab.kernel.invokeFunction('convertToInteractive',\n",
              "                                                     [key], {});\n",
              "          if (!dataTable) return;\n",
              "\n",
              "          const docLinkHtml = 'Like what you see? Visit the ' +\n",
              "            '<a target=\"_blank\" href=https://colab.research.google.com/notebooks/data_table.ipynb>data table notebook</a>'\n",
              "            + ' to learn more about interactive tables.';\n",
              "          element.innerHTML = '';\n",
              "          dataTable['output_type'] = 'display_data';\n",
              "          await google.colab.output.renderOutput(dataTable, element);\n",
              "          const docLink = document.createElement('div');\n",
              "          docLink.innerHTML = docLinkHtml;\n",
              "          element.appendChild(docLink);\n",
              "        }\n",
              "      </script>\n",
              "    </div>\n",
              "  </div>\n",
              "  "
            ]
          },
          "metadata": {},
          "execution_count": 19
        }
      ]
    },
    {
      "cell_type": "code",
      "source": [
        "test_labels = test_dataset.iloc[:,-1]\n",
        "test_labels"
      ],
      "metadata": {
        "colab": {
          "base_uri": "https://localhost:8080/"
        },
        "id": "rNa7tdgFI5b2",
        "outputId": "571078b1-4c9f-45c5-b377-9ceabb7848a7"
      },
      "execution_count": 20,
      "outputs": [
        {
          "output_type": "execute_result",
          "data": {
            "text/plain": [
              "0      0\n",
              "1      1\n",
              "2      0\n",
              "3      1\n",
              "4      0\n",
              "      ..\n",
              "767    1\n",
              "768    1\n",
              "769    1\n",
              "770    1\n",
              "771    0\n",
              "Name: Cured, Length: 772, dtype: int64"
            ]
          },
          "metadata": {},
          "execution_count": 20
        }
      ]
    },
    {
      "cell_type": "code",
      "source": [
        "val_inputs = torch.tensor(val_inputs.values, dtype=torch.float32)\n",
        "val_labels = torch.tensor(val_labels.values, dtype=torch.float32)\n",
        "test_inputs = torch.tensor(test_inputs.values, dtype=torch.float32)\n",
        "test_labels = torch.tensor(test_labels.values, dtype=torch.float32)"
      ],
      "metadata": {
        "id": "MWtgUJEuJHUZ"
      },
      "execution_count": 21,
      "outputs": []
    },
    {
      "cell_type": "markdown",
      "source": [
        "Bütün verilerimizi tensör haline getirdik. Özet olarak boyutlarını gözden geçirelim."
      ],
      "metadata": {
        "id": "b14aKQG4Jf3H"
      }
    },
    {
      "cell_type": "code",
      "source": [
        "print(\"TRAIN SETİ\\n*****************\")\n",
        "print(f\"Girdi: {train_inputs.size()}, Etiketler: {train_labels.size()}\\n\")\n",
        "\n",
        "print(\"VALIDATION SETİ\\n****************\")\n",
        "print(f\"Girdi: {val_inputs.size()}, Etiketler: {val_labels.size()}\\n\")\n",
        "\n",
        "print(\"TEST SETİ\\n****************\")\n",
        "print(f\"Girdi: {test_inputs.size()}, Etiketler: {test_labels.size()}\\n\")"
      ],
      "metadata": {
        "colab": {
          "base_uri": "https://localhost:8080/"
        },
        "id": "LzjmzhbiJoKz",
        "outputId": "b2764d5d-aa18-4ef5-b5a1-2b24906786f7"
      },
      "execution_count": 22,
      "outputs": [
        {
          "output_type": "stream",
          "name": "stdout",
          "text": [
            "TRAIN SETİ\n",
            "*****************\n",
            "Girdi: torch.Size([1252, 13]), Etiketler: torch.Size([1252])\n",
            "\n",
            "VALIDATION SETİ\n",
            "****************\n",
            "Girdi: torch.Size([314, 13]), Etiketler: torch.Size([314])\n",
            "\n",
            "TEST SETİ\n",
            "****************\n",
            "Girdi: torch.Size([772, 13]), Etiketler: torch.Size([772])\n",
            "\n"
          ]
        }
      ]
    },
    {
      "cell_type": "markdown",
      "source": [
        "Verilerimizi tensör haline getirdik. Bunları derste yapılan eğitime benzemesi için DataLoader() formatına verilecek şekilde düzenlememiz lazım. \n",
        "\n",
        "Kendi trainset değişkenimizi aşağıda oluşturalım."
      ],
      "metadata": {
        "id": "MSGaXVa6t-Qw"
      }
    },
    {
      "cell_type": "code",
      "source": [
        "from torch.utils.data import TensorDataset, DataLoader"
      ],
      "metadata": {
        "id": "JpFQ9yY0p5tQ"
      },
      "execution_count": 23,
      "outputs": []
    },
    {
      "cell_type": "code",
      "source": [
        "BATCH_SIZE=16"
      ],
      "metadata": {
        "id": "kLaX5g4reko5"
      },
      "execution_count": 24,
      "outputs": []
    },
    {
      "cell_type": "code",
      "source": [
        "trainset = TensorDataset(train_inputs, train_labels)\n",
        "\n",
        "trainloader = DataLoader(trainset, batch_size=BATCH_SIZE, shuffle=True)"
      ],
      "metadata": {
        "id": "lxz0KO2bvD0f"
      },
      "execution_count": 25,
      "outputs": []
    },
    {
      "cell_type": "code",
      "source": [
        "valset = TensorDataset(val_inputs, val_labels)\n",
        "\n",
        "valloader = DataLoader(valset, batch_size=BATCH_SIZE, shuffle=True)"
      ],
      "metadata": {
        "id": "ZO_5hhKpxQZD"
      },
      "execution_count": 26,
      "outputs": []
    },
    {
      "cell_type": "code",
      "source": [
        "testset = TensorDataset(test_inputs, test_labels)\n",
        "\n",
        "testloader = DataLoader(testset, shuffle=True)"
      ],
      "metadata": {
        "id": "Bq70zaeGeRea"
      },
      "execution_count": 27,
      "outputs": []
    },
    {
      "cell_type": "markdown",
      "source": [
        "DataLoader() ile veri setlerimizi hazırlıyoruz."
      ],
      "metadata": {
        "id": "pdW9KAHRe8GP"
      }
    },
    {
      "cell_type": "code",
      "source": [
        "trainloader = torch.utils.data.DataLoader(trainset, batch_size=BATCH_SIZE,shuffle=True, num_workers=2)\n",
        "\n",
        "valloader = torch.utils.data.DataLoader(valset, batch_size=BATCH_SIZE, shuffle=True, num_workers=2)\n",
        "\n",
        "testloader = torch.utils.data.DataLoader(testset, batch_size=BATCH_SIZE, shuffle=True, num_workers=2)"
      ],
      "metadata": {
        "id": "OLA7WW8heY_M"
      },
      "execution_count": 28,
      "outputs": []
    },
    {
      "cell_type": "markdown",
      "source": [
        "Eğitimde kullanacağımız yapay sinir ağını oluşturalım."
      ],
      "metadata": {
        "id": "WHfhhAjxfARB"
      }
    },
    {
      "cell_type": "markdown",
      "source": [
        "# Modelin Oluşturulması ve Eğitimi"
      ],
      "metadata": {
        "id": "t_fByrql6K6D"
      }
    },
    {
      "cell_type": "code",
      "source": [
        "class Net(nn.Module):\n",
        "    def __init__(self):\n",
        "        super(Net, self).__init__()\n",
        "        self.fc1 = nn.Linear( 13, 100 ) \n",
        "        self.fc2 = nn.Linear( 100, 50 )\n",
        "        self.fc3 = nn.Linear( 50, 1 ) \n",
        "\n",
        "        self.relu = nn.ReLU()\n",
        "        self.sigmoid = nn.Sigmoid()\n",
        "\n",
        "    def forward(self, x):\n",
        "        x = self.fc1(x)\n",
        "        x = self.relu(x)\n",
        "        x = self.fc2(x)\n",
        "        x = self.relu(x)\n",
        "        x = self.fc3(x)\n",
        "        x = self.sigmoid(x)\n",
        "        return x\n",
        "\n",
        "model = Net()"
      ],
      "metadata": {
        "id": "ws6Unceijr7z"
      },
      "execution_count": 29,
      "outputs": []
    },
    {
      "cell_type": "code",
      "source": [
        "LEARNING_RATE=0.001\n",
        "EPOCHS=100\n",
        "\n",
        "best_val_loss = None\n",
        "patience=5\n",
        "criterion = nn.BCELoss()\n",
        "optimizer = torch.optim.SGD(model.parameters(), lr=LEARNING_RATE)\n",
        "\n",
        "train_losses = []\n",
        "val_losses = []\n",
        "\n",
        "model = model.to(device)\n",
        "for epoch in range(EPOCHS):\n",
        "\n",
        "  train_loss = 0.0\n",
        "  val_loss = 0.0\n",
        "  train_count = 0.0\n",
        "  val_count = 0.0\n",
        "  \n",
        "  model.train()\n",
        "  for inputs, labels in trainloader:\n",
        "      #training loop\n",
        "      inputs = inputs.to(device)\n",
        "      labels = labels.to(device)\n",
        "\n",
        "      optimizer.zero_grad()\n",
        "\n",
        "      outputs = model(inputs)\n",
        "      labels = labels.unsqueeze(1)\n",
        "      loss = criterion(outputs, labels)\n",
        "      loss.backward()\n",
        "      optimizer.step()\n",
        "\n",
        "      train_count += 1.0\n",
        "      train_loss += loss.item()\n",
        "    \n",
        "\n",
        "  model.eval()\n",
        "  with torch.no_grad():\n",
        "    for inputs, targets in valloader:\n",
        "      #validation loop\n",
        "      inputs = inputs.to(device)\n",
        "      targets = targets.to(device)\n",
        "\n",
        "      outputs = model(inputs)\n",
        "      targets = targets.unsqueeze(1)\n",
        "      loss = criterion(outputs, targets)\n",
        "\n",
        "      val_count += 1.0\n",
        "      val_loss += loss.item()\n",
        "\n",
        "    # epoch kayiplarini ekrana yazdir\n",
        "  train_loss /= train_count\n",
        "  val_loss /= val_count\n",
        "  print(f\"Epoch {epoch+1} train loss: {train_loss}, validation loss: {val_loss}\")\n",
        "\n",
        "  train_losses.append(train_loss)\n",
        "  val_losses.append(val_loss)\n",
        "\n",
        "#EARLY STOPPING BASLANGIC\n",
        "  val_score = val_loss\n",
        "  if best_val_loss is None:\n",
        "    best_val_loss = val_score\n",
        "    torch.save(model.state_dict(), \"checkpoint.pt\")\n",
        "  elif best_val_loss < val_score: \n",
        "    patience_counter += 1\n",
        "    print(\"Patience Counter:\",patience_counter)\n",
        "    if patience_counter == patience:\n",
        "      print(\"Early stopping devrede, durduruluyor.\")\n",
        "      torch.save(model.state_dict(), \"checkpoint.pt\")\n",
        "      break\n",
        "  else:\n",
        "    best_val_loss = val_score\n",
        "    torch.save(model.state_dict(), \"checkpoint.pt\")\n",
        "    patience_counter = 0\n",
        "#EARLY STOPPING BITIS\n",
        "\n",
        "plt.plot(train_losses, label='Training Loss')\n",
        "plt.plot(val_losses, label='Validation Loss')\n",
        "plt.xlabel('Epoch')\n",
        "plt.ylabel('Loss')\n",
        "plt.legend()\n",
        "plt.show()\n",
        "        \n",
        "\n",
        "print('Finished Training')"
      ],
      "metadata": {
        "colab": {
          "base_uri": "https://localhost:8080/",
          "height": 1000
        },
        "id": "0h2U5O_AoGqR",
        "outputId": "280bbbbc-bb73-4237-9cd6-8af189439c1f"
      },
      "execution_count": 30,
      "outputs": [
        {
          "output_type": "stream",
          "name": "stdout",
          "text": [
            "Epoch 1 train loss: 0.5901800341243986, validation loss: 0.5203353971242904\n",
            "Epoch 2 train loss: 0.5172030971020083, validation loss: 0.46392943263053893\n",
            "Epoch 3 train loss: 0.47183412577532513, validation loss: 0.4567879378795624\n",
            "Epoch 4 train loss: 0.4448645695855346, validation loss: 0.4142723843455315\n",
            "Epoch 5 train loss: 0.4158190328486358, validation loss: 0.36462675631046293\n",
            "Epoch 6 train loss: 0.39718409976627256, validation loss: 0.34086466729640963\n",
            "Epoch 7 train loss: 0.38141585528096067, validation loss: 0.32319440469145777\n",
            "Epoch 8 train loss: 0.3667998721327963, validation loss: 0.32944555655121804\n",
            "Patience Counter: 1\n",
            "Epoch 9 train loss: 0.35519745172579076, validation loss: 0.3195334367454052\n",
            "Epoch 10 train loss: 0.3411712174928641, validation loss: 0.2914761111140251\n",
            "Epoch 11 train loss: 0.32846831784972663, validation loss: 0.29019072502851484\n",
            "Epoch 12 train loss: 0.32486248242704174, validation loss: 0.27242584712803364\n",
            "Epoch 13 train loss: 0.3142000219867199, validation loss: 0.2656536191701889\n",
            "Epoch 14 train loss: 0.30814856253092804, validation loss: 0.287373573333025\n",
            "Patience Counter: 1\n",
            "Epoch 15 train loss: 0.30129849646664875, validation loss: 0.2522636342793703\n",
            "Epoch 16 train loss: 0.2939680465791799, validation loss: 0.24522025249898433\n",
            "Epoch 17 train loss: 0.2897344183506845, validation loss: 0.24147568456828594\n",
            "Epoch 18 train loss: 0.28035293029078956, validation loss: 0.25996082946658133\n",
            "Patience Counter: 1\n",
            "Epoch 19 train loss: 0.27804186694984195, validation loss: 0.22894521057605743\n",
            "Epoch 20 train loss: 0.2784727426080764, validation loss: 0.2279312524944544\n",
            "Epoch 21 train loss: 0.2704264892241623, validation loss: 0.2266752202063799\n",
            "Epoch 22 train loss: 0.2639438948487934, validation loss: 0.22294517196714878\n",
            "Epoch 23 train loss: 0.26002401552056964, validation loss: 0.22106706947088242\n",
            "Epoch 24 train loss: 0.2563211053043981, validation loss: 0.2188344281166792\n",
            "Epoch 25 train loss: 0.2522352075652231, validation loss: 0.21456765681505202\n",
            "Epoch 26 train loss: 0.2509432602909547, validation loss: 0.20667257234454156\n",
            "Epoch 27 train loss: 0.24602516218312556, validation loss: 0.20675243362784385\n",
            "Patience Counter: 1\n",
            "Epoch 28 train loss: 0.2446655740466299, validation loss: 0.2079397764056921\n",
            "Patience Counter: 2\n",
            "Epoch 29 train loss: 0.24040714297679405, validation loss: 0.20166629329323768\n",
            "Epoch 30 train loss: 0.2440557730726049, validation loss: 0.19847372099757193\n",
            "Epoch 31 train loss: 0.23563104386948333, validation loss: 0.2020472962409258\n",
            "Patience Counter: 1\n",
            "Epoch 32 train loss: 0.23417517891790293, validation loss: 0.20086375959217548\n",
            "Patience Counter: 2\n",
            "Epoch 33 train loss: 0.23182892667341837, validation loss: 0.1951647736132145\n",
            "Epoch 34 train loss: 0.22895867118163954, validation loss: 0.19440848790109158\n",
            "Epoch 35 train loss: 0.22525927051901817, validation loss: 0.20515343584120274\n",
            "Patience Counter: 1\n",
            "Epoch 36 train loss: 0.22572553374722035, validation loss: 0.21143806502223014\n",
            "Patience Counter: 2\n",
            "Epoch 37 train loss: 0.22472777604302274, validation loss: 0.21805045679211615\n",
            "Patience Counter: 3\n",
            "Epoch 38 train loss: 0.22017231475137458, validation loss: 0.18916257210075854\n",
            "Epoch 39 train loss: 0.22221067057380192, validation loss: 0.18665248826146125\n",
            "Epoch 40 train loss: 0.21526310050600692, validation loss: 0.18590055108070375\n",
            "Epoch 41 train loss: 0.21282878065411048, validation loss: 0.18921595998108387\n",
            "Patience Counter: 1\n",
            "Epoch 42 train loss: 0.21108097696228872, validation loss: 0.18180143944919108\n",
            "Epoch 43 train loss: 0.20869729917826532, validation loss: 0.18587293457239867\n",
            "Patience Counter: 1\n",
            "Epoch 44 train loss: 0.20740805382404146, validation loss: 0.18458696510642766\n",
            "Patience Counter: 2\n",
            "Epoch 45 train loss: 0.20563509150207798, validation loss: 0.18542961552739143\n",
            "Patience Counter: 3\n",
            "Epoch 46 train loss: 0.20317208347252652, validation loss: 0.19416516721248628\n",
            "Patience Counter: 4\n",
            "Epoch 47 train loss: 0.20227212704057934, validation loss: 0.17626298498362303\n",
            "Epoch 48 train loss: 0.1992429183159448, validation loss: 0.17486775536090135\n",
            "Epoch 49 train loss: 0.19594146113229705, validation loss: 0.18385143764317036\n",
            "Patience Counter: 1\n",
            "Epoch 50 train loss: 0.19656765394950215, validation loss: 0.17189299799501895\n",
            "Epoch 51 train loss: 0.19661945995839336, validation loss: 0.18692794498056173\n",
            "Patience Counter: 1\n",
            "Epoch 52 train loss: 0.19047159569550165, validation loss: 0.1711756806820631\n",
            "Epoch 53 train loss: 0.18971914625903474, validation loss: 0.17824885044246913\n",
            "Patience Counter: 1\n",
            "Epoch 54 train loss: 0.18679531480928388, validation loss: 0.1788072230294347\n",
            "Patience Counter: 2\n",
            "Epoch 55 train loss: 0.18957888052056107, validation loss: 0.16872445214539766\n",
            "Epoch 56 train loss: 0.1880788914859295, validation loss: 0.16583086624741555\n",
            "Epoch 57 train loss: 0.1836939378158201, validation loss: 0.16930381767451763\n",
            "Patience Counter: 1\n",
            "Epoch 58 train loss: 0.1828013886284979, validation loss: 0.17057755663990976\n",
            "Patience Counter: 2\n",
            "Epoch 59 train loss: 0.18180922192486026, validation loss: 0.18393210917711258\n",
            "Patience Counter: 3\n",
            "Epoch 60 train loss: 0.18300689714430254, validation loss: 0.17999897971749307\n",
            "Patience Counter: 4\n",
            "Epoch 61 train loss: 0.18083807859051076, validation loss: 0.1710878299549222\n",
            "Patience Counter: 5\n",
            "Early stopping devrede, durduruluyor.\n"
          ]
        },
        {
          "output_type": "display_data",
          "data": {
            "text/plain": [
              "<Figure size 640x480 with 1 Axes>"
            ],
            "image/png": "[encoded data removed]"
          },
          "metadata": {}
        },
        {
          "output_type": "stream",
          "name": "stdout",
          "text": [
            "Finished Training\n"
          ]
        }
      ]
    },
    {
      "cell_type": "code",
      "source": [
        "from sklearn.metrics import accuracy_score, f1_score, precision_score, recall_score\n",
        "\n",
        "best_model = Net()\n",
        "best_model = best_model.to(device)\n",
        "checkpoint = torch.load('/content/checkpoint.pt')\n",
        "best_model.load_state_dict(checkpoint)\n",
        "\n",
        "predictions = []\n",
        "ground_truths = []\n",
        "\n",
        "with torch.no_grad():\n",
        "  for inputs,label in testloader:\n",
        "\n",
        "      inputs = inputs.to(device)\n",
        "      label = label.to(device)\n",
        "\n",
        "      output = best_model(inputs)\n",
        "\n",
        "      for i in output:\n",
        "        if(i < 0.5):\n",
        "          predictions.append(0)\n",
        "        else:\n",
        "          predictions.append(1)\n",
        "      \n",
        "      for i in label:\n",
        "        ground_truths.append(int(i))\n",
        "      \n",
        "f1_score = f1_score(ground_truths,predictions)\n",
        "accuracy = accuracy_score(ground_truths,predictions)\n",
        "precision = precision_score(ground_truths,predictions)\n",
        "recall = recall_score(ground_truths,predictions)\n",
        "\n",
        "print(\"F1-Score: {:.4f}\\nAccuracy: {:.4f}\\nPrecision: {:.4f}\\nRecall: {:.4f}\".format(f1_score,accuracy,precision,recall))"
      ],
      "metadata": {
        "id": "J3FrEq1WJaxF",
        "colab": {
          "base_uri": "https://localhost:8080/"
        },
        "outputId": "c300882f-4a02-447a-907b-7adf778a51bf"
      },
      "execution_count": 31,
      "outputs": [
        {
          "output_type": "stream",
          "name": "stdout",
          "text": [
            "F1-Score: 0.9286\n",
            "Accuracy: 0.9275\n",
            "Precision: 0.9192\n",
            "Recall: 0.9381\n"
          ]
        }
      ]
    }
  ]
}